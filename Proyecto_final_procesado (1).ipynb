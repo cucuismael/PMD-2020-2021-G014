{
  "nbformat": 4,
  "nbformat_minor": 0,
  "metadata": {
    "colab": {
      "name": "Proyecto_final_procesado",
      "provenance": [],
      "collapsed_sections": [
        "AyA9oIVDCExO",
        "sETt-YqZabP4"
      ],
      "toc_visible": true
    },
    "kernelspec": {
      "name": "python3",
      "display_name": "Python 3"
    },
    "language_info": {
      "name": "python"
    }
  },
  "cells": [
    {
      "cell_type": "markdown",
      "metadata": {
        "id": "10I3ZDsb3r72"
      },
      "source": [
        "\n",
        "<CENTER><img src=https://upload.wikimedia.org/wikipedia/commons/8/84/URJC_logo.svg></CENTER>\n",
        "\n",
        "\n",
        " \n",
        "## <center>  ANÁLISIS DEL ESTADO ANÍMICO DE LA SOCIEDAD EN EL COVID-19 A TRAVÉS DE TWEETS\n",
        "<center> (Código correspondiente a cinco salidas: extremadamente negativo, negativo, neutro, positivo y extremadamente positivo)"
      ]
    },
    {
      "cell_type": "markdown",
      "metadata": {
        "id": "vWZv-jrf60E7"
      },
      "source": [
        "**Base de datos con la que se ha trabajado:**\n",
        "\n",
        "\n",
        "https://www.kaggle.com/datatattle/covid-19-nlp-text-classification "
      ]
    },
    {
      "cell_type": "markdown",
      "metadata": {
        "id": "HXQ1qPur37NX"
      },
      "source": [
        "## Importamos los datos y las librerías"
      ]
    },
    {
      "cell_type": "code",
      "metadata": {
        "id": "w8OVTMz7462q"
      },
      "source": [
        "import os\n",
        "from os import listdir, mkdir\n",
        "\n",
        "import pandas as pd\n",
        "\n",
        "from matplotlib import pyplot as plt\n",
        "from sklearn.feature_extraction.text import CountVectorizer\n",
        "from nltk.tokenize import word_tokenize\n",
        "\n",
        "import re\n",
        "import string\n",
        "\n",
        "from sklearn import preprocessing\n",
        "\n",
        "import nltk\n",
        "from nltk.tokenize import word_tokenize\n",
        "from nltk.corpus import stopwords\n",
        "\n",
        "from PIL import Image\n",
        "from wordcloud import WordCloud, STOPWORDS, ImageColorGenerator\n",
        "\n",
        "from sklearn.metrics import f1_score\n",
        "from sklearn.feature_extraction.text import TfidfTransformer\n",
        "from sklearn.feature_extraction.text import TfidfVectorizer\n",
        "\n",
        "from sklearn.metrics import accuracy_score\n",
        "from sklearn.naive_bayes import MultinomialNB\n",
        "from sklearn.linear_model import SGDClassifier\n",
        "from sklearn.metrics import classification_report, confusion_matrix\n",
        "\n",
        "from sklearn import linear_model\n",
        "from sklearn.linear_model import LogisticRegression"
      ],
      "execution_count": null,
      "outputs": []
    },
    {
      "cell_type": "markdown",
      "metadata": {
        "id": "c17yY_Wp4_ZX"
      },
      "source": [
        "- Importamos los datos de una carpeta creada en google drive."
      ]
    },
    {
      "cell_type": "code",
      "metadata": {
        "id": "FqW6rXYivEEo",
        "colab": {
          "base_uri": "https://localhost:8080/"
        },
        "outputId": "7f0e2aaa-c4f7-48d8-9be4-907dab50af7d"
      },
      "source": [
        "from google.colab import drive \n",
        "drive.mount('/content/drive', force_remount=True)"
      ],
      "execution_count": null,
      "outputs": [
        {
          "output_type": "stream",
          "text": [
            "Mounted at /content/drive\n"
          ],
          "name": "stdout"
        }
      ]
    },
    {
      "cell_type": "code",
      "metadata": {
        "id": "QyMm8d6wvEGw",
        "colab": {
          "base_uri": "https://localhost:8080/"
        },
        "outputId": "43b29dab-c8e2-473e-bfb1-eb5e4aaa22e4"
      },
      "source": [
        "dir = \"/content/drive/MyDrive/MI_PMD/\"\n",
        "folders = os.listdir(dir)\n",
        "print(folders)"
      ],
      "execution_count": null,
      "outputs": [
        {
          "output_type": "stream",
          "text": [
            "['Corona_NLP_test.csv', '.ipynb_checkpoints', 'Corona_NLP_train.csv']\n"
          ],
          "name": "stdout"
        }
      ]
    },
    {
      "cell_type": "markdown",
      "metadata": {
        "id": "g7LH_Nvu5PXY"
      },
      "source": [
        "## Datos"
      ]
    },
    {
      "cell_type": "markdown",
      "metadata": {
        "id": "_unQG0b65EBH"
      },
      "source": [
        "- Aprovechamos que ya vienen los datos divididos en train y test creando una variable para cada csv.\n",
        "\n",
        "\n",
        "- Utilizamos el encoding IBM437 que conforme al siguiente enlace es recomendable para textos en inglés, idioma en el que se encuentran los tweets recopilados en la base. https://docs.python.org/3/library/codecs.html#standard-encodings  "
      ]
    },
    {
      "cell_type": "code",
      "metadata": {
        "id": "bf7wxDglVwnF",
        "scrolled": true
      },
      "source": [
        "df_train = pd.read_csv(\"Corona_NLP_train.csv\",encoding = \"IBM437\")\n",
        "df_test = pd.read_csv(\"Corona_NLP_test.csv\",encoding = \"IBM437\")\n"
      ],
      "execution_count": null,
      "outputs": []
    },
    {
      "cell_type": "code",
      "metadata": {
        "colab": {
          "base_uri": "https://localhost:8080/",
          "height": 54
        },
        "id": "s0BJJfYpFd4-",
        "outputId": "0508982d-eb9d-45f0-e093-fa0bfc56c41a"
      },
      "source": [
        "df_train.OriginalTweet[1]"
      ],
      "execution_count": null,
      "outputs": [
        {
          "output_type": "execute_result",
          "data": {
            "application/vnd.google.colaboratory.intrinsic+json": {
              "type": "string"
            },
            "text/plain": [
              "'advice Talk to your neighbours family to exchange phone numbers create contact list with phone numbers of neighbours schools employer chemist GP set up online shopping accounts if poss adequate supplies of regular meds but not over order'"
            ]
          },
          "metadata": {
            "tags": []
          },
          "execution_count": 5
        }
      ]
    },
    {
      "cell_type": "code",
      "metadata": {
        "id": "lLmfNRedvEI3"
      },
      "source": [
        "df_train = pd.read_csv(dir+'Corona_NLP_train.csv', encoding = \"IBM437\")\n",
        "df_test = pd.read_csv(dir+'Corona_NLP_test.csv',encoding = \"IBM437\")"
      ],
      "execution_count": null,
      "outputs": []
    },
    {
      "cell_type": "markdown",
      "metadata": {
        "id": "TH0KiUq-5J9b"
      },
      "source": [
        "- Podemos obervar con las dimensiones de cada variable que en la división que viene hecha, el conjunto de train supone un 91% y el de test un 9%."
      ]
    },
    {
      "cell_type": "code",
      "metadata": {
        "id": "3Z3QLJomvELU",
        "colab": {
          "base_uri": "https://localhost:8080/"
        },
        "outputId": "3bc21150-1013-4815-a5c1-8a80243fe5d3"
      },
      "source": [
        "print(df_train.shape,df_test.shape)"
      ],
      "execution_count": null,
      "outputs": [
        {
          "output_type": "stream",
          "text": [
            "(41157, 6) (3798, 6)\n"
          ],
          "name": "stdout"
        }
      ]
    },
    {
      "cell_type": "code",
      "metadata": {
        "id": "OZjq7-jlvEM8",
        "colab": {
          "base_uri": "https://localhost:8080/",
          "height": 529
        },
        "outputId": "0de03e85-2247-4fd4-f361-265bbc8f2326"
      },
      "source": [
        "df_train.head(10)"
      ],
      "execution_count": null,
      "outputs": [
        {
          "output_type": "execute_result",
          "data": {
            "text/html": [
              "<div>\n",
              "<style scoped>\n",
              "    .dataframe tbody tr th:only-of-type {\n",
              "        vertical-align: middle;\n",
              "    }\n",
              "\n",
              "    .dataframe tbody tr th {\n",
              "        vertical-align: top;\n",
              "    }\n",
              "\n",
              "    .dataframe thead th {\n",
              "        text-align: right;\n",
              "    }\n",
              "</style>\n",
              "<table border=\"1\" class=\"dataframe\">\n",
              "  <thead>\n",
              "    <tr style=\"text-align: right;\">\n",
              "      <th></th>\n",
              "      <th>UserName</th>\n",
              "      <th>ScreenName</th>\n",
              "      <th>Location</th>\n",
              "      <th>TweetAt</th>\n",
              "      <th>OriginalTweet</th>\n",
              "      <th>Sentiment</th>\n",
              "    </tr>\n",
              "  </thead>\n",
              "  <tbody>\n",
              "    <tr>\n",
              "      <th>0</th>\n",
              "      <td>3799</td>\n",
              "      <td>48751</td>\n",
              "      <td>London</td>\n",
              "      <td>16-03-2020</td>\n",
              "      <td>@MeNyrbie @Phil_Gahan @Chrisitv https://t.co/i...</td>\n",
              "      <td>Neutral</td>\n",
              "    </tr>\n",
              "    <tr>\n",
              "      <th>1</th>\n",
              "      <td>3800</td>\n",
              "      <td>48752</td>\n",
              "      <td>UK</td>\n",
              "      <td>16-03-2020</td>\n",
              "      <td>advice Talk to your neighbours family to excha...</td>\n",
              "      <td>Positive</td>\n",
              "    </tr>\n",
              "    <tr>\n",
              "      <th>2</th>\n",
              "      <td>3801</td>\n",
              "      <td>48753</td>\n",
              "      <td>Vagabonds</td>\n",
              "      <td>16-03-2020</td>\n",
              "      <td>Coronavirus Australia: Woolworths to give elde...</td>\n",
              "      <td>Positive</td>\n",
              "    </tr>\n",
              "    <tr>\n",
              "      <th>3</th>\n",
              "      <td>3802</td>\n",
              "      <td>48754</td>\n",
              "      <td>NaN</td>\n",
              "      <td>16-03-2020</td>\n",
              "      <td>My food stock is not the only one which is emp...</td>\n",
              "      <td>Positive</td>\n",
              "    </tr>\n",
              "    <tr>\n",
              "      <th>4</th>\n",
              "      <td>3803</td>\n",
              "      <td>48755</td>\n",
              "      <td>NaN</td>\n",
              "      <td>16-03-2020</td>\n",
              "      <td>Me, ready to go at supermarket during the #COV...</td>\n",
              "      <td>Extremely Negative</td>\n",
              "    </tr>\n",
              "    <tr>\n",
              "      <th>5</th>\n",
              "      <td>3804</td>\n",
              "      <td>48756</td>\n",
              "      <td>├£T: 36.319708,-82.363649</td>\n",
              "      <td>16-03-2020</td>\n",
              "      <td>As news of the region┬Æs first confirmed COVID...</td>\n",
              "      <td>Positive</td>\n",
              "    </tr>\n",
              "    <tr>\n",
              "      <th>6</th>\n",
              "      <td>3805</td>\n",
              "      <td>48757</td>\n",
              "      <td>35.926541,-78.753267</td>\n",
              "      <td>16-03-2020</td>\n",
              "      <td>Cashier at grocery store was sharing his insig...</td>\n",
              "      <td>Positive</td>\n",
              "    </tr>\n",
              "    <tr>\n",
              "      <th>7</th>\n",
              "      <td>3806</td>\n",
              "      <td>48758</td>\n",
              "      <td>Austria</td>\n",
              "      <td>16-03-2020</td>\n",
              "      <td>Was at the supermarket today. Didn't buy toile...</td>\n",
              "      <td>Neutral</td>\n",
              "    </tr>\n",
              "    <tr>\n",
              "      <th>8</th>\n",
              "      <td>3807</td>\n",
              "      <td>48759</td>\n",
              "      <td>Atlanta, GA USA</td>\n",
              "      <td>16-03-2020</td>\n",
              "      <td>Due to COVID-19 our retail store and classroom...</td>\n",
              "      <td>Positive</td>\n",
              "    </tr>\n",
              "    <tr>\n",
              "      <th>9</th>\n",
              "      <td>3808</td>\n",
              "      <td>48760</td>\n",
              "      <td>BHAVNAGAR,GUJRAT</td>\n",
              "      <td>16-03-2020</td>\n",
              "      <td>For corona prevention,we should stop to buy th...</td>\n",
              "      <td>Negative</td>\n",
              "    </tr>\n",
              "  </tbody>\n",
              "</table>\n",
              "</div>"
            ],
            "text/plain": [
              "   UserName  ...           Sentiment\n",
              "0      3799  ...             Neutral\n",
              "1      3800  ...            Positive\n",
              "2      3801  ...            Positive\n",
              "3      3802  ...            Positive\n",
              "4      3803  ...  Extremely Negative\n",
              "5      3804  ...            Positive\n",
              "6      3805  ...            Positive\n",
              "7      3806  ...             Neutral\n",
              "8      3807  ...            Positive\n",
              "9      3808  ...            Negative\n",
              "\n",
              "[10 rows x 6 columns]"
            ]
          },
          "metadata": {
            "tags": []
          },
          "execution_count": 7
        }
      ]
    },
    {
      "cell_type": "code",
      "metadata": {
        "id": "7QBdWYZVvEPT",
        "colab": {
          "base_uri": "https://localhost:8080/",
          "height": 529
        },
        "outputId": "00f80b55-d13e-4f11-df63-bb9e915b2f33"
      },
      "source": [
        "df_test.head(10)"
      ],
      "execution_count": null,
      "outputs": [
        {
          "output_type": "execute_result",
          "data": {
            "text/html": [
              "<div>\n",
              "<style scoped>\n",
              "    .dataframe tbody tr th:only-of-type {\n",
              "        vertical-align: middle;\n",
              "    }\n",
              "\n",
              "    .dataframe tbody tr th {\n",
              "        vertical-align: top;\n",
              "    }\n",
              "\n",
              "    .dataframe thead th {\n",
              "        text-align: right;\n",
              "    }\n",
              "</style>\n",
              "<table border=\"1\" class=\"dataframe\">\n",
              "  <thead>\n",
              "    <tr style=\"text-align: right;\">\n",
              "      <th></th>\n",
              "      <th>UserName</th>\n",
              "      <th>ScreenName</th>\n",
              "      <th>Location</th>\n",
              "      <th>TweetAt</th>\n",
              "      <th>OriginalTweet</th>\n",
              "      <th>Sentiment</th>\n",
              "    </tr>\n",
              "  </thead>\n",
              "  <tbody>\n",
              "    <tr>\n",
              "      <th>0</th>\n",
              "      <td>1</td>\n",
              "      <td>44953</td>\n",
              "      <td>NYC</td>\n",
              "      <td>02-03-2020</td>\n",
              "      <td>TRENDING: New Yorkers encounter empty supermar...</td>\n",
              "      <td>Extremely Negative</td>\n",
              "    </tr>\n",
              "    <tr>\n",
              "      <th>1</th>\n",
              "      <td>2</td>\n",
              "      <td>44954</td>\n",
              "      <td>Seattle, WA</td>\n",
              "      <td>02-03-2020</td>\n",
              "      <td>When I couldn't find hand sanitizer at Fred Me...</td>\n",
              "      <td>Positive</td>\n",
              "    </tr>\n",
              "    <tr>\n",
              "      <th>2</th>\n",
              "      <td>3</td>\n",
              "      <td>44955</td>\n",
              "      <td>NaN</td>\n",
              "      <td>02-03-2020</td>\n",
              "      <td>Find out how you can protect yourself and love...</td>\n",
              "      <td>Extremely Positive</td>\n",
              "    </tr>\n",
              "    <tr>\n",
              "      <th>3</th>\n",
              "      <td>4</td>\n",
              "      <td>44956</td>\n",
              "      <td>Chicagoland</td>\n",
              "      <td>02-03-2020</td>\n",
              "      <td>#Panic buying hits #NewYork City as anxious sh...</td>\n",
              "      <td>Negative</td>\n",
              "    </tr>\n",
              "    <tr>\n",
              "      <th>4</th>\n",
              "      <td>5</td>\n",
              "      <td>44957</td>\n",
              "      <td>Melbourne, Victoria</td>\n",
              "      <td>03-03-2020</td>\n",
              "      <td>#toiletpaper #dunnypaper #coronavirus #coronav...</td>\n",
              "      <td>Neutral</td>\n",
              "    </tr>\n",
              "    <tr>\n",
              "      <th>5</th>\n",
              "      <td>6</td>\n",
              "      <td>44958</td>\n",
              "      <td>Los Angeles</td>\n",
              "      <td>03-03-2020</td>\n",
              "      <td>Do you remember the last time you paid $2.99 a...</td>\n",
              "      <td>Neutral</td>\n",
              "    </tr>\n",
              "    <tr>\n",
              "      <th>6</th>\n",
              "      <td>7</td>\n",
              "      <td>44959</td>\n",
              "      <td>NaN</td>\n",
              "      <td>03-03-2020</td>\n",
              "      <td>Voting in the age of #coronavirus = hand sanit...</td>\n",
              "      <td>Positive</td>\n",
              "    </tr>\n",
              "    <tr>\n",
              "      <th>7</th>\n",
              "      <td>8</td>\n",
              "      <td>44960</td>\n",
              "      <td>Geneva, Switzerland</td>\n",
              "      <td>03-03-2020</td>\n",
              "      <td>@DrTedros \"We can┬Æt stop #COVID19 without pro...</td>\n",
              "      <td>Neutral</td>\n",
              "    </tr>\n",
              "    <tr>\n",
              "      <th>8</th>\n",
              "      <td>9</td>\n",
              "      <td>44961</td>\n",
              "      <td>NaN</td>\n",
              "      <td>04-03-2020</td>\n",
              "      <td>HI TWITTER! I am a pharmacist. I sell hand san...</td>\n",
              "      <td>Extremely Negative</td>\n",
              "    </tr>\n",
              "    <tr>\n",
              "      <th>9</th>\n",
              "      <td>10</td>\n",
              "      <td>44962</td>\n",
              "      <td>Dublin, Ireland</td>\n",
              "      <td>04-03-2020</td>\n",
              "      <td>Anyone been in a supermarket over the last few...</td>\n",
              "      <td>Extremely Positive</td>\n",
              "    </tr>\n",
              "  </tbody>\n",
              "</table>\n",
              "</div>"
            ],
            "text/plain": [
              "   UserName  ...           Sentiment\n",
              "0         1  ...  Extremely Negative\n",
              "1         2  ...            Positive\n",
              "2         3  ...  Extremely Positive\n",
              "3         4  ...            Negative\n",
              "4         5  ...             Neutral\n",
              "5         6  ...             Neutral\n",
              "6         7  ...            Positive\n",
              "7         8  ...             Neutral\n",
              "8         9  ...  Extremely Negative\n",
              "9        10  ...  Extremely Positive\n",
              "\n",
              "[10 rows x 6 columns]"
            ]
          },
          "metadata": {
            "tags": []
          },
          "execution_count": 8
        }
      ]
    },
    {
      "cell_type": "markdown",
      "metadata": {
        "id": "BZjMGRzG5R2r"
      },
      "source": [
        "- Mostramos analíticamente la distribución de los tweets en las diferentes salidas siendo éstas cinco posibles: extremadamente negativo, negativo, neutro, positivo y extremadamente positivo."
      ]
    },
    {
      "cell_type": "code",
      "metadata": {
        "colab": {
          "base_uri": "https://localhost:8080/"
        },
        "id": "Y_j1oQzjGRM7",
        "outputId": "3a152992-3e55-4635-ea00-3d249ff34de6"
      },
      "source": [
        "print('Para los datos de entrenamiento:',df_train[\"Sentiment\"].value_counts())\n",
        "print('Para los datos de test:',df_test[\"Sentiment\"].value_counts())"
      ],
      "execution_count": null,
      "outputs": [
        {
          "output_type": "stream",
          "text": [
            "Para los datos de entrenamiento: Positive              11422\n",
            "Negative               9917\n",
            "Neutral                7713\n",
            "Extremely Positive     6624\n",
            "Extremely Negative     5481\n",
            "Name: Sentiment, dtype: int64\n",
            "Para los datos de test: Negative              1041\n",
            "Positive               947\n",
            "Neutral                619\n",
            "Extremely Positive     599\n",
            "Extremely Negative     592\n",
            "Name: Sentiment, dtype: int64\n"
          ],
          "name": "stdout"
        }
      ]
    },
    {
      "cell_type": "markdown",
      "metadata": {
        "id": "f-QeAN34IiOo"
      },
      "source": [
        "- Mostramos gráficamente la distribución de los datos en las diferentes salidas para ser si está balanceada la base.\n",
        "\n",
        "\n",
        "- Se puede apreciar en los histogramas que en la base de test hay algunos más casos de negativos que de positivos mientras que en el conjunto train es al contrario. No hay un desbalanceo que genere una desigualdad lo suficientemente destacable como para realizar oversampling."
      ]
    },
    {
      "cell_type": "code",
      "metadata": {
        "id": "xwRtVWKGvERc",
        "colab": {
          "base_uri": "https://localhost:8080/",
          "height": 394
        },
        "outputId": "da222f9e-7165-41d1-97e0-2e0e09df7a1c"
      },
      "source": [
        "fig, ax = plt.subplots(1,2,figsize=(15,7))\n",
        "ax[0].hist(df_train[\"Sentiment\"],alpha = 0.5, color = 'r')\n",
        "ax[1].hist(df_test[\"Sentiment\"],alpha = 0.5, color = 'g')\n",
        "plt.show()"
      ],
      "execution_count": null,
      "outputs": [
        {
          "output_type": "display_data",
          "data": {
            "image/png": "[encoded data removed]",
            "text/plain": [
              "<Figure size 1080x504 with 2 Axes>"
            ]
          },
          "metadata": {
            "tags": [],
            "needs_background": "light"
          }
        }
      ]
    },
    {
      "cell_type": "markdown",
      "metadata": {
        "id": "9IodZBRdKHJc"
      },
      "source": [
        "- Analizamos la cantidad de valores nulos y a qué columnas afectan. Se puede ver que afecta únicamente a localización por lo que no tendría sentido eliminar aquellos usuarios de los que no tenemos localización cuando sí se puede realizar el objetivo principal del proyecto consistente en relacionar el tweet con los sentimientos expresados."
      ]
    },
    {
      "cell_type": "code",
      "metadata": {
        "colab": {
          "base_uri": "https://localhost:8080/"
        },
        "id": "oP-fOgBx4DfB",
        "outputId": "6e31edc4-beae-4ea2-b9b0-0326cbc03e81"
      },
      "source": [
        "df_train.isnull().sum()"
      ],
      "execution_count": null,
      "outputs": [
        {
          "output_type": "execute_result",
          "data": {
            "text/plain": [
              "UserName            0\n",
              "ScreenName          0\n",
              "Location         8590\n",
              "TweetAt             0\n",
              "OriginalTweet       0\n",
              "Sentiment           0\n",
              "dtype: int64"
            ]
          },
          "metadata": {
            "tags": []
          },
          "execution_count": 11
        }
      ]
    },
    {
      "cell_type": "code",
      "metadata": {
        "colab": {
          "base_uri": "https://localhost:8080/"
        },
        "id": "r2c8yDpw4Dhc",
        "outputId": "b6c8a1f8-e4b8-4259-e2ec-5c5a2120c71a"
      },
      "source": [
        "df_test.isnull().sum()"
      ],
      "execution_count": null,
      "outputs": [
        {
          "output_type": "execute_result",
          "data": {
            "text/plain": [
              "UserName           0\n",
              "ScreenName         0\n",
              "Location         834\n",
              "TweetAt            0\n",
              "OriginalTweet      0\n",
              "Sentiment          0\n",
              "dtype: int64"
            ]
          },
          "metadata": {
            "tags": []
          },
          "execution_count": 12
        }
      ]
    },
    {
      "cell_type": "markdown",
      "metadata": {
        "id": "P0CSm2DqLLhR"
      },
      "source": [
        "## Preprocesado de los datos"
      ]
    },
    {
      "cell_type": "markdown",
      "metadata": {
        "id": "nTDOFEO95mwP"
      },
      "source": [
        "- En este apartado se llevará a cabo el acondicionamiento de los datos para poder obtener unos resultados de predicción buenos.\n",
        "\n",
        "\n",
        "- Creamos las funciones que eliminarán signos de puntuación y tildes que no aportarán información alguna para la predicción de sentimientos."
      ]
    },
    {
      "cell_type": "code",
      "metadata": {
        "id": "g7Y4FLsB5FhJ"
      },
      "source": [
        "def clean_text_round1(text):\n",
        "    '''Make text lowercase, remove text in square brackets, remove punctuation and remove words containing numbers.'''\n",
        "    text = text.lower()\n",
        "    text = re.sub('\\[.*?¿\\]\\%', ' ', text)\n",
        "    text = re.sub('[%s]' % re.escape(string.punctuation), ' ', text)\n",
        "    text = re.sub('\\w*\\d\\w*', '', text)\n",
        "    return text\n",
        "def clean_text_round2(text):\n",
        "    '''Get rid of some additional punctuation and non-sensical text that was missed the first time around.'''\n",
        "    text = re.sub('[‘’“”…«»]', '', text)\n",
        "    text = re.sub('\\n', ' ', text)\n",
        "    return text\n",
        "def eliminar_tilde(text):\n",
        "    text=text.replace(\"á\",\"a\")\n",
        "    text=text.replace(\"é\",\"e\")\n",
        "    text=text.replace(\"í\",\"i\")\n",
        "    text=text.replace(\"ó\",\"o\")\n",
        "    text=text.replace(\"ú\",\"u\")\n",
        "    return text"
      ],
      "execution_count": null,
      "outputs": []
    },
    {
      "cell_type": "code",
      "metadata": {
        "id": "F-pe036w5Fjj",
        "colab": {
          "base_uri": "https://localhost:8080/"
        },
        "outputId": "ecb97486-4413-4dc0-d6f5-d04d642e0009"
      },
      "source": [
        "for k in range(0,len(df_train['OriginalTweet'])):\n",
        "    clean1=clean_text_round1(df_train['OriginalTweet'][k])\n",
        "    clean2=clean_text_round2(clean1)\n",
        "    df_train['OriginalTweet'][k]=eliminar_tilde(clean2)"
      ],
      "execution_count": null,
      "outputs": [
        {
          "output_type": "stream",
          "text": [
            "/usr/local/lib/python3.7/dist-packages/ipykernel_launcher.py:4: SettingWithCopyWarning: \n",
            "A value is trying to be set on a copy of a slice from a DataFrame\n",
            "\n",
            "See the caveats in the documentation: https://pandas.pydata.org/pandas-docs/stable/user_guide/indexing.html#returning-a-view-versus-a-copy\n",
            "  after removing the cwd from sys.path.\n"
          ],
          "name": "stderr"
        }
      ]
    },
    {
      "cell_type": "code",
      "metadata": {
        "colab": {
          "base_uri": "https://localhost:8080/"
        },
        "id": "XAd1mTqI0qNG",
        "outputId": "8ae7e11c-61a6-4a4d-df86-5a0f0aa94351"
      },
      "source": [
        "for k in range(0,len(df_test['OriginalTweet'])):\n",
        "    clean1=clean_text_round1(df_test['OriginalTweet'][k])\n",
        "    clean2=clean_text_round2(clean1)\n",
        "    df_test['OriginalTweet'][k]=eliminar_tilde(clean2)"
      ],
      "execution_count": null,
      "outputs": [
        {
          "output_type": "stream",
          "text": [
            "/usr/local/lib/python3.7/dist-packages/ipykernel_launcher.py:4: SettingWithCopyWarning: \n",
            "A value is trying to be set on a copy of a slice from a DataFrame\n",
            "\n",
            "See the caveats in the documentation: https://pandas.pydata.org/pandas-docs/stable/user_guide/indexing.html#returning-a-view-versus-a-copy\n",
            "  after removing the cwd from sys.path.\n"
          ],
          "name": "stderr"
        }
      ]
    },
    {
      "cell_type": "code",
      "metadata": {
        "colab": {
          "base_uri": "https://localhost:8080/",
          "height": 69
        },
        "id": "uVJIQIRnF9pM",
        "outputId": "1a8200a1-e3ed-4989-c3e3-713cd5d345c7"
      },
      "source": [
        "df_train.OriginalTweet[1]"
      ],
      "execution_count": null,
      "outputs": [
        {
          "output_type": "execute_result",
          "data": {
            "application/vnd.google.colaboratory.intrinsic+json": {
              "type": "string"
            },
            "text/plain": [
              "'advice talk to your neighbours family to exchange phone numbers create contact list with phone numbers of neighbours schools employer chemist gp set up online shopping accounts if poss adequate supplies of regular meds but not over order'"
            ]
          },
          "metadata": {
            "tags": []
          },
          "execution_count": 16
        }
      ]
    },
    {
      "cell_type": "markdown",
      "metadata": {
        "id": "S6IC1y7Q5rro"
      },
      "source": [
        "- Eliminamos las stopwords ya que son palabras innecesarias que tampoco aportarán información alguna. Se realizará a partir de un diccionario de nltk. Hacemos el proceso tanto en el conjunto de test como de train"
      ]
    },
    {
      "cell_type": "code",
      "metadata": {
        "colab": {
          "base_uri": "https://localhost:8080/"
        },
        "id": "ejIM4vQmGkw5",
        "outputId": "9820aa03-0a44-4dd9-83c6-dafeba9e9838"
      },
      "source": [
        "nltk.download('punkt')\n",
        "nltk.download('stopwords')\n",
        "print(\"\")\n",
        "stop_words = set(stopwords.words('english'))\n",
        "\n",
        "for k in range(0,len(df_test['OriginalTweet'])):\n",
        "\n",
        "  texto = df_train.OriginalTweet[k]\n",
        "\n",
        "  #function to split text into word\n",
        "  tokens = word_tokenize(texto)\n",
        "\n",
        "  vocabulary = set(tokens)\n",
        "  df_train.OriginalTweet[k] = \" \".join([w for w in tokens if not w in stop_words])\n",
        "\n",
        "for k in range(0,len(df_test['OriginalTweet'])):\n",
        "\n",
        "  texto = df_test.OriginalTweet[k]\n",
        "\n",
        "  #function to split text into word\n",
        "  tokens = word_tokenize(texto)\n",
        "\n",
        "  vocabulary = set(tokens)\n",
        "  df_test.OriginalTweet[k] = \" \".join([w for w in tokens if not w in stop_words])"
      ],
      "execution_count": null,
      "outputs": [
        {
          "output_type": "stream",
          "text": [
            "[nltk_data] Downloading package punkt to /root/nltk_data...\n",
            "[nltk_data]   Unzipping tokenizers/punkt.zip.\n",
            "[nltk_data] Downloading package stopwords to /root/nltk_data...\n",
            "[nltk_data]   Unzipping corpora/stopwords.zip.\n",
            "\n"
          ],
          "name": "stdout"
        },
        {
          "output_type": "stream",
          "text": [
            "/usr/local/lib/python3.7/dist-packages/ipykernel_launcher.py:14: SettingWithCopyWarning: \n",
            "A value is trying to be set on a copy of a slice from a DataFrame\n",
            "\n",
            "See the caveats in the documentation: https://pandas.pydata.org/pandas-docs/stable/user_guide/indexing.html#returning-a-view-versus-a-copy\n",
            "  \n",
            "/usr/local/lib/python3.7/dist-packages/ipykernel_launcher.py:24: SettingWithCopyWarning: \n",
            "A value is trying to be set on a copy of a slice from a DataFrame\n",
            "\n",
            "See the caveats in the documentation: https://pandas.pydata.org/pandas-docs/stable/user_guide/indexing.html#returning-a-view-versus-a-copy\n"
          ],
          "name": "stderr"
        }
      ]
    },
    {
      "cell_type": "code",
      "metadata": {
        "colab": {
          "base_uri": "https://localhost:8080/",
          "height": 52
        },
        "id": "X9DdfJwrG2My",
        "outputId": "258cd7ff-8cb8-41d0-a830-0c26e67ac799"
      },
      "source": [
        "df_train.OriginalTweet[1]"
      ],
      "execution_count": null,
      "outputs": [
        {
          "output_type": "execute_result",
          "data": {
            "application/vnd.google.colaboratory.intrinsic+json": {
              "type": "string"
            },
            "text/plain": [
              "'advice talk neighbours family exchange phone numbers create contact list phone numbers neighbours schools employer chemist gp set online shopping accounts poss adequate supplies regular meds order'"
            ]
          },
          "metadata": {
            "tags": []
          },
          "execution_count": 18
        }
      ]
    },
    {
      "cell_type": "markdown",
      "metadata": {
        "id": "KBDMArMVHVAV"
      },
      "source": [
        "- A continuación vamos a ver que palabras se repiten con mayor frecuencia en el conjunto de train. También se incluye un histograma que lo muestra\n",
        "\n"
      ]
    },
    {
      "cell_type": "code",
      "metadata": {
        "id": "h-hHfDWm5Fl2",
        "colab": {
          "base_uri": "https://localhost:8080/",
          "height": 406
        },
        "outputId": "301b8877-ce63-40b4-d7f5-caea69b8a94f"
      },
      "source": [
        "\n",
        "texto = df_train.OriginalTweet.str.cat(sep=' ')\n",
        "\n",
        "#function to split text into word\n",
        "tokens = word_tokenize(texto)\n",
        "\n",
        "vocabulary = set(tokens)\n",
        "print(\"Cantidad de palabras distintas: \", len(vocabulary))\n",
        "\n",
        "\n",
        "stop_words = set(stopwords.words('english'))\n",
        "print(\"Ejemplos de stopwords:\", list(stop_words)[0:10])\n",
        "tokens = [w for w in tokens if not w in stop_words]\n",
        "frequency_dist = nltk.FreqDist(tokens)\n",
        "print(\"Diez palabras con mayor frecuencia: \", sorted(frequency_dist,key=frequency_dist.__getitem__, reverse=True)[0:10])\n",
        "frequency_dist.plot(20,cumulative=False)"
      ],
      "execution_count": null,
      "outputs": [
        {
          "output_type": "stream",
          "text": [
            "Cantidad de palabras distintas:  57451\n",
            "Ejemplos de stopwords: [\"wasn't\", 'some', 'so', \"you'll\", 'most', 'you', 'under', 's', \"mightn't\", 'it']\n",
            "Diez palabras con mayor frecuencia:  ['co', 'https', 'coronavirus', 'covid', 'prices', 'food', 'supermarket', 'store', 'grocery', 'people']\n"
          ],
          "name": "stdout"
        },
        {
          "output_type": "display_data",
          "data": {
            "image/png": "[encoded data removed]",
            "text/plain": [
              "<Figure size 432x288 with 1 Axes>"
            ]
          },
          "metadata": {
            "tags": [],
            "needs_background": "light"
          }
        }
      ]
    },
    {
      "cell_type": "markdown",
      "metadata": {
        "id": "C_FBdJfWHt3G"
      },
      "source": [
        "Tambien generamos un Wordcloud con estas palabras"
      ]
    },
    {
      "cell_type": "code",
      "metadata": {
        "colab": {
          "base_uri": "https://localhost:8080/",
          "height": 198
        },
        "id": "QNvLEXIgfN-o",
        "outputId": "a426f71a-5d8e-4cda-abb1-692d6615abc0"
      },
      "source": [
        "# Create and generate a word cloud image:\n",
        "wordcloud = WordCloud().generate(texto)\n",
        "\n",
        "# Display the generated image:\n",
        "plt.imshow(wordcloud, interpolation='bilinear')\n",
        "plt.axis(\"off\")\n",
        "plt.show()"
      ],
      "execution_count": null,
      "outputs": [
        {
          "output_type": "display_data",
          "data": {
            "image/png": "[encoded data removed]",
            "text/plain": [
              "<Figure size 432x288 with 1 Axes>"
            ]
          },
          "metadata": {
            "tags": [],
            "needs_background": "light"
          }
        }
      ]
    },
    {
      "cell_type": "markdown",
      "metadata": {
        "id": "ZmexWfLM5zfG"
      },
      "source": [
        "- A continuación vamos a ver que palabras se repiten con mayor frecuencia en el conjunto de test. También se incluye un histograma que lo muestra\n",
        "\n",
        "---\n",
        "\n"
      ]
    },
    {
      "cell_type": "code",
      "metadata": {
        "colab": {
          "base_uri": "https://localhost:8080/",
          "height": 404
        },
        "id": "Is6rcXyC2IQ3",
        "outputId": "88bf30bd-ace5-47db-ab23-38e873bed008"
      },
      "source": [
        "texto = df_test.OriginalTweet.str.cat(sep=' ')\n",
        "#function to split text into word\n",
        "tokens = word_tokenize(texto)\n",
        "vocabulary = set(tokens)\n",
        "print(\"Cantidad de palabras distintas: \", len(vocabulary))\n",
        "stop_words = set(stopwords.words('english'))\n",
        "print(\"Ejemplos de stopwords:\", list(stop_words)[0:10])\n",
        "tokens = [w for w in tokens if not w in stop_words]\n",
        "frequency_dist = nltk.FreqDist(tokens)\n",
        "print(\"Diez palabras con mayor frecuencia: \", sorted(frequency_dist,key=frequency_dist.__getitem__, reverse=True)[0:10])\n",
        "frequency_dist.plot(20,cumulative=False)"
      ],
      "execution_count": null,
      "outputs": [
        {
          "output_type": "stream",
          "text": [
            "Cantidad de palabras distintas:  11823\n",
            "Ejemplos de stopwords: [\"wasn't\", 'some', 'so', \"you'll\", 'most', 'you', 'under', 's', \"mightn't\", 'it']\n",
            "Diez palabras con mayor frecuencia:  ['covid', 'co', 'https', 'coronavirus', 'food', 'store', 'grocery', 'stock', 'people', 'amp']\n"
          ],
          "name": "stdout"
        },
        {
          "output_type": "display_data",
          "data": {
            "image/png": "[encoded data removed]",
            "text/plain": [
              "<Figure size 432x288 with 1 Axes>"
            ]
          },
          "metadata": {
            "tags": [],
            "needs_background": "light"
          }
        }
      ]
    },
    {
      "cell_type": "code",
      "metadata": {
        "colab": {
          "base_uri": "https://localhost:8080/",
          "height": 198
        },
        "id": "eCiSzjGUfz03",
        "outputId": "cb44e67e-4d70-4605-d203-26a0a1836c9b"
      },
      "source": [
        "wordcloud = WordCloud().generate(texto)\n",
        "\n",
        "# Display the generated image:\n",
        "plt.imshow(wordcloud, interpolation='bilinear')\n",
        "plt.axis(\"off\")\n",
        "plt.show()"
      ],
      "execution_count": null,
      "outputs": [
        {
          "output_type": "display_data",
          "data": {
            "image/png": "[encoded data removed]",
            "text/plain": [
              "<Figure size 432x288 with 1 Axes>"
            ]
          },
          "metadata": {
            "tags": [],
            "needs_background": "light"
          }
        }
      ]
    },
    {
      "cell_type": "markdown",
      "metadata": {
        "id": "oLFivXOs6Ay3"
      },
      "source": [
        "- Codificamos el texto en números de manera que así los modelos puedan realizar un entrenamiento adecuado."
      ]
    },
    {
      "cell_type": "code",
      "metadata": {
        "colab": {
          "base_uri": "https://localhost:8080/",
          "height": 52
        },
        "id": "WTap0UyxId7U",
        "outputId": "263ee61a-9b1d-4a43-aec0-8aa9f5275e3c"
      },
      "source": [
        "df_train.OriginalTweet[1]"
      ],
      "execution_count": null,
      "outputs": [
        {
          "output_type": "execute_result",
          "data": {
            "application/vnd.google.colaboratory.intrinsic+json": {
              "type": "string"
            },
            "text/plain": [
              "'advice talk neighbours family exchange phone numbers create contact list phone numbers neighbours schools employer chemist gp set online shopping accounts poss adequate supplies regular meds order'"
            ]
          },
          "metadata": {
            "tags": []
          },
          "execution_count": 23
        }
      ]
    },
    {
      "cell_type": "code",
      "metadata": {
        "id": "vopqnLMD94mF"
      },
      "source": [
        "X_train=df_train[\"OriginalTweet\"]\n",
        "y_train=df_train[\"Sentiment\"]\n",
        "X_test=df_test[\"OriginalTweet\"]\n",
        "y_test=df_test[\"Sentiment\"]\n",
        "\n",
        "vectorizer = TfidfVectorizer()\n",
        "train_vectors = vectorizer.fit_transform(X_train)\n",
        "test_vectors = vectorizer.transform(X_test)"
      ],
      "execution_count": null,
      "outputs": []
    },
    {
      "cell_type": "markdown",
      "metadata": {
        "id": "dV_65bWP6IXu"
      },
      "source": [
        "## Entrenamiento de modelos"
      ]
    },
    {
      "cell_type": "markdown",
      "metadata": {
        "id": "FFLeDQ2v6PCj"
      },
      "source": [
        "- En este apartado se lleva a cabo el entrenamiento de una serie de modelos a partir de los datos preprocesados. Los modelos nos permitirán lograr el objetivo del proyecto, conocer los sentimientos a partir de un tweet relacionado con el covid."
      ]
    },
    {
      "cell_type": "markdown",
      "metadata": {
        "id": "AyA9oIVDCExO"
      },
      "source": [
        "### MultinomialNB y SGDClassifier"
      ]
    },
    {
      "cell_type": "code",
      "metadata": {
        "id": "Qvc2G0Ax94oK",
        "colab": {
          "base_uri": "https://localhost:8080/"
        },
        "outputId": "2579642e-8755-4e93-ba99-856c99cd6e45"
      },
      "source": [
        "vectorizer = TfidfVectorizer()\n",
        "train_vectors = vectorizer.fit_transform(X_train)\n",
        "test_vectors = vectorizer.transform(X_test)\n",
        "\n",
        "clf =  MultinomialNB().fit(train_vectors, y_train)\n",
        "predicted = clf.predict(test_vectors)\n",
        "\n",
        "print(accuracy_score(y_test,predicted))\n",
        "print(confusion_matrix(y_test,predicted))\n",
        "print(classification_report(y_test,predicted))"
      ],
      "execution_count": null,
      "outputs": [
        {
          "output_type": "stream",
          "text": [
            "0.35676671932596105\n",
            "[[  6   0 419   1 166]\n",
            " [  0  18  25   1 555]\n",
            " [  1   0 433  10 597]\n",
            " [  0   1 125  53 440]\n",
            " [  0   2  97   3 845]]\n",
            "                    precision    recall  f1-score   support\n",
            "\n",
            "Extremely Negative       0.86      0.01      0.02       592\n",
            "Extremely Positive       0.86      0.03      0.06       599\n",
            "          Negative       0.39      0.42      0.40      1041\n",
            "           Neutral       0.78      0.09      0.15       619\n",
            "          Positive       0.32      0.89      0.48       947\n",
            "\n",
            "          accuracy                           0.36      3798\n",
            "         macro avg       0.64      0.29      0.22      3798\n",
            "      weighted avg       0.58      0.36      0.27      3798\n",
            "\n"
          ],
          "name": "stdout"
        }
      ]
    },
    {
      "cell_type": "code",
      "metadata": {
        "id": "MSHiqtjK94rt",
        "colab": {
          "base_uri": "https://localhost:8080/"
        },
        "outputId": "be418e7b-8df4-4630-b66c-bce5a0a3c90b"
      },
      "source": [
        "vectorizer = TfidfVectorizer()\n",
        "train_vectors = vectorizer.fit_transform(X_train)\n",
        "test_vectors = vectorizer.transform(X_test)\n",
        "\n",
        "clf =  SGDClassifier().fit(train_vectors, y_train)\n",
        "predicted = clf.predict(test_vectors)\n",
        "\n",
        "print(accuracy_score(y_test,predicted))\n",
        "print(confusion_matrix(y_test,predicted))\n",
        "print(classification_report(y_test,predicted))"
      ],
      "execution_count": null,
      "outputs": [
        {
          "output_type": "stream",
          "text": [
            "0.5194839389152185\n",
            "[[414   8  91  57  22]\n",
            " [ 13 455  16  40  75]\n",
            " [272  56 292 272 149]\n",
            " [ 19  14  43 498  45]\n",
            " [ 56 269  99 209 314]]\n",
            "                    precision    recall  f1-score   support\n",
            "\n",
            "Extremely Negative       0.53      0.70      0.61       592\n",
            "Extremely Positive       0.57      0.76      0.65       599\n",
            "          Negative       0.54      0.28      0.37      1041\n",
            "           Neutral       0.46      0.80      0.59       619\n",
            "          Positive       0.52      0.33      0.40       947\n",
            "\n",
            "          accuracy                           0.52      3798\n",
            "         macro avg       0.52      0.58      0.52      3798\n",
            "      weighted avg       0.53      0.52      0.49      3798\n",
            "\n"
          ],
          "name": "stdout"
        }
      ]
    },
    {
      "cell_type": "markdown",
      "metadata": {
        "id": "Y4a_8p48g16-"
      },
      "source": [
        "### Red convolucional\n",
        "\n"
      ]
    },
    {
      "cell_type": "code",
      "metadata": {
        "id": "RuHyfgGD3rtZ"
      },
      "source": [
        "from sklearn.preprocessing import LabelEncoder\n",
        "from sklearn.model_selection import train_test_split\n",
        "from sklearn.feature_extraction.text import CountVectorizer\n"
      ],
      "execution_count": null,
      "outputs": []
    },
    {
      "cell_type": "code",
      "metadata": {
        "id": "QcPOkPCs-UfC"
      },
      "source": [
        "%load_ext tensorboard\n",
        "from __future__ import absolute_import, division, print_function, unicode_literals\n",
        "\n",
        "# Install TensorFlow\n",
        "try:\n",
        "  # %tensorflow_version only exists in Colab.\n",
        "  %tensorflow_version 2.x\n",
        "except Exception:\n",
        "  pass\n",
        "\n",
        "import tensorflow as tf\n",
        "from tensorflow import keras\n",
        "import matplotlib.pyplot as plt\n",
        "from datetime import datetime\n",
        "from keras.preprocessing.text import Tokenizer\n",
        "from keras.preprocessing.sequence import pad_sequences\n",
        "from keras.utils.np_utils import to_categorical"
      ],
      "execution_count": null,
      "outputs": []
    },
    {
      "cell_type": "markdown",
      "metadata": {
        "id": "sETt-YqZabP4"
      },
      "source": [
        "#### Metodo 1"
      ]
    },
    {
      "cell_type": "code",
      "metadata": {
        "id": "adWvkEcq3Fj7"
      },
      "source": [
        "df_tr = pd.read_csv(dir+'Corona_NLP_train.csv', encoding = \"IBM437\")\n",
        "df_te = pd.read_csv(dir+'Corona_NLP_test.csv', encoding = \"IBM437\")\n",
        "\n",
        "df_tr = df_tr[['OriginalTweet', 'Sentiment']]"
      ],
      "execution_count": null,
      "outputs": []
    },
    {
      "cell_type": "code",
      "metadata": {
        "id": "KsEV3nAZACRH"
      },
      "source": [
        "df_train = pd.read_csv(\"Corona_NLP_train.csv\",encoding = \"IBM437\")\n",
        "df_test = pd.read_csv(\"Corona_NLP_test.csv\",encoding = \"IBM437\")"
      ],
      "execution_count": null,
      "outputs": []
    },
    {
      "cell_type": "code",
      "metadata": {
        "id": "_s7LePm_3S03"
      },
      "source": [
        "def getAnalysis(score):\n",
        "    if score == 'Negative' or score == 'Extremely Negative':\n",
        "        return 0\n",
        "    elif score==\"Neutral\":\n",
        "        return 1\n",
        "    else:\n",
        "      return 2\n",
        "df_tr['Sentiment'] = df_tr['Sentiment'].apply(getAnalysis)\n",
        "df_te['Sentiment'] = df_te['Sentiment'].apply(getAnalysis)"
      ],
      "execution_count": null,
      "outputs": []
    },
    {
      "cell_type": "markdown",
      "metadata": {
        "id": "lqV2zGNBagsH"
      },
      "source": [
        "#### Metodo 2"
      ]
    },
    {
      "cell_type": "code",
      "metadata": {
        "id": "-o-nE4eDZBZZ"
      },
      "source": [
        "X_tr=X_train\n",
        "X_te=X_test\n",
        "y_tr=y_train\n",
        "y_te=y_test"
      ],
      "execution_count": null,
      "outputs": []
    },
    {
      "cell_type": "code",
      "metadata": {
        "id": "9HiNUJFeZ2pb"
      },
      "source": [
        "for i in range(len(y_tr)):\n",
        "    if(y_tr[i]=='Extremely Negative'):\n",
        "        y_tr[i]='Negative'\n",
        "    elif(y_tr[i]=='Extremely Positive'):\n",
        "        y_tr[i]='Positive'\n",
        "for i in range(len(y_te)):\n",
        "    if(y_te[i]=='Extremely Negative'):\n",
        "        y_te[i]='Negative'\n",
        "    elif(y_te[i]=='Extremely Positive'):\n",
        "        y_te[i]='Positive'"
      ],
      "execution_count": null,
      "outputs": []
    },
    {
      "cell_type": "code",
      "metadata": {
        "id": "MNaIT4FP3arP"
      },
      "source": [
        "tokenizer_tr = Tokenizer(num_words=1500, split=' ')\n",
        "tokenizer_te = Tokenizer(num_words=1500, split=' ')\n",
        "\n",
        "tokenizer_tr.fit_on_texts(X_tr.values)\n",
        "tokenizer_te.fit_on_texts(X_te.values)\n",
        "X_tr = tokenizer_tr.texts_to_sequences(X_tr)\n",
        "X_tr = pad_sequences(X_tr)\n",
        "X_te = tokenizer_te.texts_to_sequences(X_te)\n",
        "X_te = pad_sequences(X_te)"
      ],
      "execution_count": null,
      "outputs": []
    },
    {
      "cell_type": "code",
      "metadata": {
        "id": "z_j6iqBz3oKR"
      },
      "source": [
        "Le = LabelEncoder()\n",
        "y_tr = Le.fit_transform(y_tr)\n",
        "y_te = Le.fit_transform(y_te)\n",
        "y_tr=pd.get_dummies(y_tr)\n",
        "y_te=pd.get_dummies(y_te)\n"
      ],
      "execution_count": null,
      "outputs": []
    },
    {
      "cell_type": "code",
      "metadata": {
        "id": "5lfGLty5zzQh"
      },
      "source": [
        "input_size=train_vectors.shape[1]\n",
        "embed_dim=256\n",
        "lstm_out=218"
      ],
      "execution_count": null,
      "outputs": []
    },
    {
      "cell_type": "code",
      "metadata": {
        "id": "8rA0bHz9-UhW"
      },
      "source": [
        "mlp_model = tf.keras.Sequential([\n",
        "        tf.keras.layers.Embedding(1500, embed_dim,input_length=28),\n",
        "        tf.keras.layers.LSTM(lstm_out, dropout=0.2, recurrent_dropout=0.2),\n",
        "        tf.keras.layers.Dense((10), activation='relu'),\n",
        "        tf.keras.layers.Dense((3), activation='softmax')\n",
        "    ])"
      ],
      "execution_count": null,
      "outputs": []
    },
    {
      "cell_type": "code",
      "metadata": {
        "id": "Eng81ho6A4Kd",
        "colab": {
          "base_uri": "https://localhost:8080/"
        },
        "outputId": "c0d22f74-d74d-4426-d2bc-61a23f05abb2"
      },
      "source": [
        "mlp_model.compile(optimizer='adam',\n",
        "              loss='CategoricalCrossentropy',\n",
        "              metrics=['accuracy'],)\n",
        "mlp_model.summary()"
      ],
      "execution_count": null,
      "outputs": [
        {
          "output_type": "stream",
          "text": [
            "Model: \"sequential_1\"\n",
            "_________________________________________________________________\n",
            "Layer (type)                 Output Shape              Param #   \n",
            "=================================================================\n",
            "embedding_1 (Embedding)      (None, 28, 256)           384000    \n",
            "_________________________________________________________________\n",
            "lstm_1 (LSTM)                (None, 218)               414200    \n",
            "_________________________________________________________________\n",
            "dense_2 (Dense)              (None, 10)                2190      \n",
            "_________________________________________________________________\n",
            "dense_3 (Dense)              (None, 3)                 33        \n",
            "=================================================================\n",
            "Total params: 800,423\n",
            "Trainable params: 800,423\n",
            "Non-trainable params: 0\n",
            "_________________________________________________________________\n"
          ],
          "name": "stdout"
        }
      ]
    },
    {
      "cell_type": "code",
      "metadata": {
        "id": "Gj5tOnqiA4Mi",
        "colab": {
          "base_uri": "https://localhost:8080/"
        },
        "outputId": "a4b2cf5d-3e1c-432a-8322-10f7a8dee794"
      },
      "source": [
        "mlp_model.fit(X_tr, y_tr, validation_data=(X_te,y_te), epochs=2, batch_size=32)\n"
      ],
      "execution_count": null,
      "outputs": [
        {
          "output_type": "stream",
          "text": [
            "Epoch 1/2\n",
            "WARNING:tensorflow:Model was constructed with shape (None, 28) for input KerasTensor(type_spec=TensorSpec(shape=(None, 28), dtype=tf.float32, name='embedding_1_input'), name='embedding_1_input', description=\"created by layer 'embedding_1_input'\"), but it was called on an input with incompatible shape (None, 63).\n",
            "WARNING:tensorflow:Model was constructed with shape (None, 28) for input KerasTensor(type_spec=TensorSpec(shape=(None, 28), dtype=tf.float32, name='embedding_1_input'), name='embedding_1_input', description=\"created by layer 'embedding_1_input'\"), but it was called on an input with incompatible shape (None, 63).\n",
            "1287/1287 [==============================] - ETA: 0s - loss: 0.8095 - accuracy: 0.6213WARNING:tensorflow:Model was constructed with shape (None, 28) for input KerasTensor(type_spec=TensorSpec(shape=(None, 28), dtype=tf.float32, name='embedding_1_input'), name='embedding_1_input', description=\"created by layer 'embedding_1_input'\"), but it was called on an input with incompatible shape (None, 33).\n",
            "1287/1287 [==============================] - 413s 319ms/step - loss: 0.8094 - accuracy: 0.6214 - val_loss: 1.4614 - val_accuracy: 0.3863\n",
            "Epoch 2/2\n",
            "1287/1287 [==============================] - 412s 320ms/step - loss: 0.5680 - accuracy: 0.7876 - val_loss: 1.4879 - val_accuracy: 0.3934\n"
          ],
          "name": "stdout"
        },
        {
          "output_type": "execute_result",
          "data": {
            "text/plain": [
              "<tensorflow.python.keras.callbacks.History at 0x7fb80b20efd0>"
            ]
          },
          "metadata": {
            "tags": []
          },
          "execution_count": 70
        }
      ]
    },
    {
      "cell_type": "code",
      "metadata": {
        "id": "soWsW61zFlLI",
        "colab": {
          "base_uri": "https://localhost:8080/"
        },
        "outputId": "a8d61e32-810d-4900-9a89-13ca59d17b88"
      },
      "source": [
        "mlp_model.evaluate(X_te,y_te)\n",
        "mlp_pred=mlp_model.predict_classes(X_te)\n"
      ],
      "execution_count": null,
      "outputs": [
        {
          "output_type": "stream",
          "text": [
            "119/119 [==============================] - 3s 25ms/step - loss: 1.4879 - accuracy: 0.3934\n"
          ],
          "name": "stdout"
        },
        {
          "output_type": "stream",
          "text": [
            "/usr/local/lib/python3.7/dist-packages/tensorflow/python/keras/engine/sequential.py:450: UserWarning: `model.predict_classes()` is deprecated and will be removed after 2021-01-01. Please use instead:* `np.argmax(model.predict(x), axis=-1)`,   if your model does multi-class classification   (e.g. if it uses a `softmax` last-layer activation).* `(model.predict(x) > 0.5).astype(\"int32\")`,   if your model does binary classification   (e.g. if it uses a `sigmoid` last-layer activation).\n",
            "  warnings.warn('`model.predict_classes()` is deprecated and '\n"
          ],
          "name": "stderr"
        }
      ]
    },
    {
      "cell_type": "code",
      "metadata": {
        "id": "a7K6Kgv5lcDA"
      },
      "source": [
        "mlp_pred\n",
        "test_result=Le.fit_transform(y_test)"
      ],
      "execution_count": null,
      "outputs": []
    },
    {
      "cell_type": "code",
      "metadata": {
        "id": "uEiem2TxKsJx",
        "colab": {
          "base_uri": "https://localhost:8080/"
        },
        "outputId": "bef47d1e-9619-40b5-8403-c7c0e1efd888"
      },
      "source": [
        "print(confusion_matrix(test_result,mlp_pred))\n",
        "print(classification_report(test_result,mlp_pred))"
      ],
      "execution_count": null,
      "outputs": [
        {
          "output_type": "stream",
          "text": [
            "[[614 446 573]\n",
            " [139 288 192]\n",
            " [556 398 592]]\n",
            "              precision    recall  f1-score   support\n",
            "\n",
            "           0       0.47      0.38      0.42      1633\n",
            "           1       0.25      0.47      0.33       619\n",
            "           2       0.44      0.38      0.41      1546\n",
            "\n",
            "    accuracy                           0.39      3798\n",
            "   macro avg       0.39      0.41      0.38      3798\n",
            "weighted avg       0.42      0.39      0.40      3798\n",
            "\n"
          ],
          "name": "stdout"
        }
      ]
    },
    {
      "cell_type": "markdown",
      "metadata": {
        "id": "56YolyX4BzCl"
      },
      "source": [
        "### Regresión Logística\n"
      ]
    },
    {
      "cell_type": "code",
      "metadata": {
        "id": "SlGFxMsBA_h3"
      },
      "source": [
        "#X_train=df_train[\"OriginalTweet\"]\n",
        "#y_train=df_train[\"Sentiment\"]\n",
        "#X_test=df_test[\"OriginalTweet\"]\n",
        "#y_test=df_test[\"Sentiment\"]\n",
        "#vectorizer = TfidfVectorizer()\n",
        "#train_vectors = vectorizer.fit_transform(X_train)\n",
        "#test_vectors = vectorizer.transform(X_test)"
      ],
      "execution_count": null,
      "outputs": []
    },
    {
      "cell_type": "code",
      "metadata": {
        "id": "SR1ojD0XIt7P",
        "colab": {
          "base_uri": "https://localhost:8080/"
        },
        "outputId": "87e021c3-d992-467e-b228-84a2922e2ac8"
      },
      "source": [
        "model = linear_model.LogisticRegression()\n",
        "model.fit(train_vectors,y_train)\n",
        "y_pred=model.predict(test_vectors) \n",
        "\n",
        "print(accuracy_score(y_test,y_pred))\n",
        "print(confusion_matrix(y_test,y_pred))\n",
        "print(classification_report(y_test,y_pred))"
      ],
      "execution_count": null,
      "outputs": [
        {
          "output_type": "stream",
          "text": [
            "0.5429173249078463\n",
            "[[227   5 284  41  35]\n",
            " [  6 287  27  25 254]\n",
            " [ 92  18 522 202 207]\n",
            " [  7   6  74 472  60]\n",
            " [ 21  79 149 144 554]]\n",
            "                    precision    recall  f1-score   support\n",
            "\n",
            "Extremely Negative       0.64      0.38      0.48       592\n",
            "Extremely Positive       0.73      0.48      0.58       599\n",
            "          Negative       0.49      0.50      0.50      1041\n",
            "           Neutral       0.53      0.76      0.63       619\n",
            "          Positive       0.50      0.59      0.54       947\n",
            "\n",
            "          accuracy                           0.54      3798\n",
            "         macro avg       0.58      0.54      0.54      3798\n",
            "      weighted avg       0.56      0.54      0.54      3798\n",
            "\n"
          ],
          "name": "stdout"
        },
        {
          "output_type": "stream",
          "text": [
            "/usr/local/lib/python3.7/dist-packages/sklearn/linear_model/_logistic.py:940: ConvergenceWarning: lbfgs failed to converge (status=1):\n",
            "STOP: TOTAL NO. of ITERATIONS REACHED LIMIT.\n",
            "\n",
            "Increase the number of iterations (max_iter) or scale the data as shown in:\n",
            "    https://scikit-learn.org/stable/modules/preprocessing.html\n",
            "Please also refer to the documentation for alternative solver options:\n",
            "    https://scikit-learn.org/stable/modules/linear_model.html#logistic-regression\n",
            "  extra_warning_msg=_LOGISTIC_SOLVER_CONVERGENCE_MSG)\n"
          ],
          "name": "stderr"
        }
      ]
    }
  ]
}